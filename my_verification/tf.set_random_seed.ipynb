{
 "cells": [
  {
   "cell_type": "code",
   "execution_count": 32,
   "metadata": {
    "collapsed": true
   },
   "outputs": [],
   "source": [
    "import numpy as np\n",
    "import tensorflow as tf"
   ]
  },
  {
   "cell_type": "code",
   "execution_count": null,
   "metadata": {
    "collapsed": true
   },
   "outputs": [],
   "source": [
    "a = tf.random_uniform([1])\n",
    "b = tf.random_normal([1])\n",
    "print(\"Session 1\")\n",
    "with tf.Session() as sess1:\n",
    "    print(sess1.run(a))  # generates 'A1'\n",
    "    print(sess1.run(a))  # generates 'A2'\n",
    "    print(sess1.run(b))  # generates 'B1'\n",
    "    print(sess1.run(b))  # generates 'B2'\n",
    "print(\"Session 2\")\n",
    "with tf.Session() as sess2:\n",
    "    print(sess2.run(a))  # generates 'A3'\n",
    "    print(sess2.run(a))  # generates 'A4'\n",
    "    print(sess2.run(b))  # generates 'B3'\n",
    "    print(sess2.run(b))  # generates 'B4'"
   ]
  },
  {
   "cell_type": "code",
   "execution_count": null,
   "metadata": {
    "collapsed": true
   },
   "outputs": [],
   "source": [
    "a = tf.random_uniform([1], seed=1)\n",
    "b = tf.random_normal([1])\n",
    "# Repeatedly running this block with the same graph will generate the same\n",
    "# sequence of values for 'a', but different sequences of values for 'b'.\n",
    "print(\"Session 1\")\n",
    "with tf.Session() as sess1:\n",
    "    print(sess1.run(a))  # generates 'A1'\n",
    "    print(sess1.run(a))  # generates 'A2'\n",
    "    print(sess1.run(b))  # generates 'B1'\n",
    "    print(sess1.run(b))  # generates 'B2'\n",
    "print(\"Session 2\")\n",
    "with tf.Session() as sess2:\n",
    "    print(sess2.run(a))  # generates 'A1'\n",
    "    print(sess2.run(a))  # generates 'A2'\n",
    "    print(sess2.run(b))  # generates 'B3'\n",
    "    print(sess2.run(b))  # generates 'B4'"
   ]
  },
  {
   "cell_type": "code",
   "execution_count": null,
   "metadata": {
    "collapsed": true
   },
   "outputs": [],
   "source": [
    "with tf.Session() as sess1:\n",
    "    print(sess1.run(a))  # generates 'A1'\n",
    "    print(sess1.run(a))  # generates 'A2'\n",
    "    print(sess1.run(b))  # generates 'B1'\n",
    "    print(sess1.run(b))  # generates 'B2'\n",
    "print(\"Session 2\")\n",
    "with tf.Session() as sess2:\n",
    "    print(sess2.run(a))  # generates 'A1'\n",
    "    print(sess2.run(a))  # generates 'A2'\n",
    "    print(sess2.run(b))  # generates 'B3'\n",
    "    print(sess2.run(b))  # generates 'B4'"
   ]
  },
  {
   "cell_type": "code",
   "execution_count": 15,
   "metadata": {},
   "outputs": [
    {
     "name": "stdout",
     "output_type": "stream",
     "text": [
      "Session 1\n",
      "[ 0.72257137]\n",
      "[ 0.35829496]\n",
      "[ 0.58526564]\n",
      "[ 0.96515763]\n",
      "Session 2\n",
      "[ 0.72257137]\n",
      "[ 0.35829496]\n",
      "[ 0.58526564]\n",
      "[ 0.96515763]\n"
     ]
    }
   ],
   "source": [
    "tf.set_random_seed(1234)\n",
    "a = tf.random_uniform([1])\n",
    "b = tf.random_uniform([1])\n",
    "# Repeatedly running this block with the same graph will generate the same\n",
    "# sequences of 'a' and 'b'.\n",
    "print(\"Session 1\")\n",
    "with tf.Session() as sess1:\n",
    "    print(sess1.run(a))  # generates 'A1'\n",
    "    print(sess1.run(a))  # generates 'A2'\n",
    "    print(sess1.run(b))  # generates 'B1'\n",
    "    print(sess1.run(b))  # generates 'B2'\n",
    "print(\"Session 2\")\n",
    "with tf.Session() as sess2:\n",
    "    print(sess2.run(a))  # generates 'A1'\n",
    "    print(sess2.run(a))  # generates 'A2'\n",
    "    print(sess2.run(b))  # generates 'B1'\n",
    "    print(sess2.run(b))  # generates 'B2'"
   ]
  },
  {
   "cell_type": "code",
   "execution_count": 31,
   "metadata": {},
   "outputs": [
    {
     "name": "stdout",
     "output_type": "stream",
     "text": [
      "Session 1\n",
      "[[ 0.05554414  0.01869845]]\n",
      "[[ 0.05554414  0.01869845  0.07080972]\n",
      " [ 0.27141213  0.65317714  0.58058167]\n",
      " [ 0.93273187  0.4293102   0.41135514]]\n",
      "Session 2\n",
      "[[ 0.05554414  0.01869845]]\n",
      "[[ 0.05554414  0.01869845  0.07080972]\n",
      " [ 0.27141213  0.65317714  0.58058167]\n",
      " [ 0.93273187  0.4293102   0.41135514]]\n"
     ]
    }
   ],
   "source": [
    "tf.set_random_seed(1)\n",
    "a = tf.random_uniform([1,2],seed=1)\n",
    "b = tf.random_uniform([3,3],seed=1)\n",
    "# Repeatedly running this block with the same graph will generate the same\n",
    "# sequences of 'a' and 'b'.\n",
    "print(\"Session 1\")\n",
    "with tf.Session() as sess1:\n",
    "    print(sess1.run(a))  # generates 'A1'\n",
    "    #print(sess1.run(a))  # generates 'A2'\n",
    "    print(sess1.run(b))  # generates 'B1'\n",
    "    #print(sess1.run(b))  # generates 'B2'\n",
    "print(\"Session 2\")\n",
    "with tf.Session() as sess2:\n",
    "    print(sess2.run(a))  # generates 'A1'\n",
    "    #print(sess2.run(a))  # generates 'A2'\n",
    "    print(sess2.run(b))  # generates 'B1'\n",
    "    #print(sess2.run(b))  # generates 'B2'"
   ]
  },
  {
   "cell_type": "code",
   "execution_count": 33,
   "metadata": {},
   "outputs": [
    {
     "name": "stdout",
     "output_type": "stream",
     "text": [
      "[  4.17022005e-01   7.20324493e-01   1.14374817e-04   3.02332573e-01\n",
      "   1.46755891e-01   9.23385948e-02   1.86260211e-01   3.45560727e-01\n",
      "   3.96767474e-01   5.38816734e-01]\n"
     ]
    }
   ],
   "source": [
    "np.random.seed(1)\n",
    "print(np.random.rand(10))"
   ]
  },
  {
   "cell_type": "code",
   "execution_count": 34,
   "metadata": {},
   "outputs": [
    {
     "name": "stdout",
     "output_type": "stream",
     "text": [
      "[ 0.05554414  0.01869845  0.07080972  0.27141213  0.65317714  0.58058167\n",
      "  0.93273187  0.4293102   0.41135514  0.44323444]\n"
     ]
    }
   ],
   "source": [
    "a = tf.random_uniform([10],seed=1)\n",
    "with tf.Session() as sess1:\n",
    "    print(sess1.run(a))  # generates 'A1'"
   ]
  },
  {
   "cell_type": "code",
   "execution_count": null,
   "metadata": {
    "collapsed": true
   },
   "outputs": [],
   "source": []
  }
 ],
 "metadata": {
  "kernelspec": {
   "display_name": "Python 3",
   "language": "python",
   "name": "python3"
  },
  "language_info": {
   "codemirror_mode": {
    "name": "ipython",
    "version": 3
   },
   "file_extension": ".py",
   "mimetype": "text/x-python",
   "name": "python",
   "nbconvert_exporter": "python",
   "pygments_lexer": "ipython3",
   "version": "3.5.4"
  }
 },
 "nbformat": 4,
 "nbformat_minor": 2
}
