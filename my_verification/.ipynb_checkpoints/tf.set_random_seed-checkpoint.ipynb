{
 "cells": [
  {
   "cell_type": "code",
   "execution_count": null,
   "metadata": {
    "collapsed": true
   },
   "outputs": [],
   "source": [
    "import numpy as np\n",
    "import tensorflow as tf"
   ]
  },
  {
   "cell_type": "code",
   "execution_count": null,
   "metadata": {},
   "outputs": [],
   "source": [
    "a = tf.random_uniform([1])\n",
    "b = tf.random_normal([1])\n",
    "print(\"Session 1\")\n",
    "with tf.Session() as sess1:\n",
    "    print(sess1.run(a))  # generates 'A1'\n",
    "    print(sess1.run(a))  # generates 'A2'\n",
    "    print(sess1.run(b))  # generates 'B1'\n",
    "    print(sess1.run(b))  # generates 'B2'\n",
    "print(\"Session 2\")\n",
    "with tf.Session() as sess2:\n",
    "    print(sess2.run(a))  # generates 'A3'\n",
    "    print(sess2.run(a))  # generates 'A4'\n",
    "    print(sess2.run(b))  # generates 'B3'\n",
    "    print(sess2.run(b))  # generates 'B4'"
   ]
  },
  {
   "cell_type": "code",
   "execution_count": null,
   "metadata": {},
   "outputs": [],
   "source": [
    "a = tf.random_uniform([1], seed=1)\n",
    "b = tf.random_normal([1])\n",
    "# Repeatedly running this block with the same graph will generate the same\n",
    "# sequence of values for 'a', but different sequences of values for 'b'.\n",
    "print(\"Session 1\")\n",
    "with tf.Session() as sess1:\n",
    "    print(sess1.run(a))  # generates 'A1'\n",
    "    print(sess1.run(a))  # generates 'A2'\n",
    "    print(sess1.run(b))  # generates 'B1'\n",
    "    print(sess1.run(b))  # generates 'B2'\n",
    "print(\"Session 2\")\n",
    "with tf.Session() as sess2:\n",
    "    print(sess2.run(a))  # generates 'A1'\n",
    "    print(sess2.run(a))  # generates 'A2'\n",
    "    print(sess2.run(b))  # generates 'B3'\n",
    "    print(sess2.run(b))  # generates 'B4'"
   ]
  },
  {
   "cell_type": "code",
   "execution_count": null,
   "metadata": {},
   "outputs": [],
   "source": [
    "tf.set_random_seed(1234)\n",
    "a = tf.random_uniform([1])\n",
    "b = tf.random_normal([1])\n",
    "# Repeatedly running this block with the same graph will generate the same\n",
    "# sequences of 'a' and 'b'.\n",
    "print(\"Session 1\")\n",
    "with tf.Session() as sess1:\n",
    "    print(sess1.run(a))  # generates 'A1'\n",
    "    print(sess1.run(a))  # generates 'A2'\n",
    "    print(sess1.run(b))  # generates 'B1'\n",
    "    print(sess1.run(b))  # generates 'B2'\n",
    "print(\"Session 2\")\n",
    "with tf.Session() as sess2:\n",
    "    print(sess2.run(a))  # generates 'A1'\n",
    "    print(sess2.run(a))  # generates 'A2'\n",
    "    print(sess2.run(b))  # generates 'B1'\n",
    "    print(sess2.run(b))  # generates 'B2'"
   ]
  },
  {
   "cell_type": "code",
   "execution_count": null,
   "metadata": {},
   "outputs": [],
   "source": [
    "tf.set_random_seed(1234)\n",
    "a = tf.random_uniform([1],seed=1)\n",
    "b = tf.random_normal([1])\n",
    "# Repeatedly running this block with the same graph will generate the same\n",
    "# sequences of 'a' and 'b'.\n",
    "print(\"Session 1\")\n",
    "with tf.Session() as sess1:\n",
    "    print(sess1.run(a))  # generates 'A1'\n",
    "    print(sess1.run(a))  # generates 'A2'\n",
    "    print(sess1.run(b))  # generates 'B1'\n",
    "    print(sess1.run(b))  # generates 'B2'\n",
    "print(\"Session 2\")\n",
    "with tf.Session() as sess2:\n",
    "    print(sess2.run(a))  # generates 'A1'\n",
    "    print(sess2.run(a))  # generates 'A2'\n",
    "    print(sess2.run(b))  # generates 'B1'\n",
    "    print(sess2.run(b))  # generates 'B2'"
   ]
  },
  {
   "cell_type": "code",
   "execution_count": null,
   "metadata": {
    "collapsed": true
   },
   "outputs": [],
   "source": []
  }
 ],
 "metadata": {
  "kernelspec": {
   "display_name": "Python 3",
   "language": "python",
   "name": "python3"
  },
  "language_info": {
   "codemirror_mode": {
    "name": "ipython",
    "version": 3
   },
   "file_extension": ".py",
   "mimetype": "text/x-python",
   "name": "python",
   "nbconvert_exporter": "python",
   "pygments_lexer": "ipython3",
   "version": "3.5.4"
  }
 },
 "nbformat": 4,
 "nbformat_minor": 2
}
