{
 "cells": [
  {
   "cell_type": "code",
   "execution_count": 1,
   "metadata": {
    "collapsed": true
   },
   "outputs": [],
   "source": [
    "import numpy as np\n",
    "import matplotlib\n",
    "import matplotlib.pyplot as plt\n",
    "import linecache\n",
    "import math\n",
    "import tensorflow as tf\n",
    "from tensorflow.python.framework import ops\n",
    "import pickle"
   ]
  },
  {
   "cell_type": "code",
   "execution_count": 2,
   "metadata": {
    "collapsed": true
   },
   "outputs": [],
   "source": [
    "# initialize mode params\n",
    "num_mode=3\n",
    "ny=161\n",
    "nz=23\n",
    "y=np.zeros((ny,1))\n",
    "z=np.zeros((nz,1))\n",
    "data1=np.zeros((ny,nz))\n",
    "data2=np.zeros((ny,nz))\n",
    "mode_data=[['' for i in range(3)] for j in range(1)]"
   ]
  },
  {
   "cell_type": "code",
   "execution_count": 3,
   "metadata": {
    "collapsed": true
   },
   "outputs": [],
   "source": [
    "# get mode1-3 E and H data\n",
    "j=0\n",
    "for i in range(3+1,3+1+ny):\n",
    "    y[j,:]=linecache.getline(r'C:\\Users\\Ang Liu\\Desktop\\Mode_data\\mode1_ey.txt', i).split()\n",
    "    j+=1\n",
    "\n",
    "j=0\n",
    "for i in range(3+ny+2+1,3+ny+2+1+nz):\n",
    "    z[j,:]=linecache.getline(r'C:\\Users\\Ang Liu\\Desktop\\Mode_data\\mode1_ey.txt', i).split()\n",
    "    j+=1\n",
    "\n",
    "for k in range(num_mode):\n",
    "    j=0\n",
    "    for i in range(3+ny+2+nz+2+1,3+ny+2+nz+2+1+ny):\n",
    "        data1[j,:]=linecache.getline(r'C:\\Users\\Ang Liu\\Desktop\\Mode_data\\mode'+str(k+1)+'_ey.txt', i).split()\n",
    "        j+=1  \n",
    "    mode_data[0][k]=np.copy(data1.T)\n",
    "\n",
    "# Normlize integral{|E|^2*dydz} to 1\n",
    "dy=(y[-1,0]-y[0,0])/(y.shape[0]-1)\n",
    "dz=(z[-1,0]-z[0,0])/(z.shape[0]-1)\n",
    "norm_mode=np.zeros((1,num_mode))\n",
    "for i in range(num_mode):\n",
    "    norm_mode[0,i]=np.sum(mode_data[0][i]**2*dy*dz)\n",
    "    mode_data[0][i]/=np.sqrt(norm_mode[0,i])"
   ]
  },
  {
   "cell_type": "code",
   "execution_count": 4,
   "metadata": {
    "collapsed": true
   },
   "outputs": [],
   "source": [
    "def create_placeholders(n_x, n_y):\n",
    "    X = tf.placeholder(tf.float32,[n_x,None])\n",
    "    Y = tf.placeholder(tf.float32,[n_y,None])\n",
    "    return X, Y"
   ]
  },
  {
   "cell_type": "code",
   "execution_count": 5,
   "metadata": {
    "collapsed": true
   },
   "outputs": [],
   "source": [
    "def initialize_parameters(parameters=None):\n",
    "    if parameters==None:\n",
    "        tf.set_random_seed(2)      \n",
    "        W1 = tf.get_variable(\"W1\", [25,63], initializer = tf.contrib.layers.xavier_initializer(seed = 3))\n",
    "        b1 = tf.get_variable(\"b1\", [25,1], initializer = tf.zeros_initializer())\n",
    "        W2 = tf.get_variable(\"W2\", [12,25], initializer = tf.contrib.layers.xavier_initializer(seed = 4))\n",
    "        b2 = tf.get_variable(\"b2\", [12,1], initializer = tf.zeros_initializer())\n",
    "        W3 = tf.get_variable(\"W3\", [3,12], initializer = tf.contrib.layers.xavier_initializer(seed = 5))\n",
    "        b3 = tf.get_variable(\"b3\", [3,1], initializer = tf.zeros_initializer())\n",
    "    else:\n",
    "        W1 = tf.get_variable(\"W1\",  initializer = tf.constant(parameters['W1']))\n",
    "        b1 = tf.get_variable(\"b1\",  initializer = tf.constant(parameters['b1']))\n",
    "        W2 = tf.get_variable(\"W2\",  initializer = tf.constant(parameters['W2']))\n",
    "        b2 = tf.get_variable(\"b2\",  initializer = tf.constant(parameters['b2']))\n",
    "        W3 = tf.get_variable(\"W3\",  initializer = tf.constant(parameters['W3']))\n",
    "        b3 = tf.get_variable(\"b3\",  initializer = tf.constant(parameters['b3']))\n",
    "    parameters = {\"W1\": W1,\n",
    "                  \"b1\": b1,\n",
    "                  \"W2\": W2,\n",
    "                  \"b2\": b2,\n",
    "                  \"W3\": W3,\n",
    "                  \"b3\": b3}\n",
    "    \n",
    "    return parameters"
   ]
  },
  {
   "cell_type": "code",
   "execution_count": 6,
   "metadata": {
    "collapsed": true
   },
   "outputs": [],
   "source": [
    "def forward_propagation(X, parameters):   \n",
    "    # Retrieve the parameters from the dictionary \"parameters\" \n",
    "    W1 = parameters['W1']\n",
    "    b1 = parameters['b1']\n",
    "    W2 = parameters['W2']\n",
    "    b2 = parameters['b2']\n",
    "    W3 = parameters['W3']\n",
    "    b3 = parameters['b3']\n",
    "    \n",
    "    Z1 = tf.matmul(W1,X) + b1                                              # Z1 = np.dot(W1, X) + b1\n",
    "    A1 = tf.nn.tanh(Z1)                                              # A1 = tanh(Z1)\n",
    "    Z2 = tf.matmul(W2,A1) + b2                                              # Z2 = np.dot(W2, a1) + b2\n",
    "    A2 = tf.nn.tanh(Z2)                                              # A2 = tanh(Z2)\n",
    "    Z3 = tf.matmul(W3,A2) + b3                                              # Z3 = np.dot(W3,Z2) + b3\n",
    "   \n",
    "    return Z3"
   ]
  },
  {
   "cell_type": "code",
   "execution_count": 7,
   "metadata": {
    "collapsed": true
   },
   "outputs": [],
   "source": [
    "def compute_cost2(Z3, Y):\n",
    "    \n",
    "    # to fit the tensorflow requirement for tf.nn.softmax_cross_entropy_with_logits(...,...)\n",
    "    Z3 = tf.transpose(Z3)\n",
    "    Y = tf.transpose(Y)\n",
    "    A3 = tf.nn.softmax(Z3)\n",
    "    cost = tf.reduce_mean(tf.reduce_sum((Y-A3)**2,axis=1))\n",
    "    \n",
    "    return tf.transpose(A3),cost"
   ]
  },
  {
   "cell_type": "code",
   "execution_count": 8,
   "metadata": {
    "collapsed": true
   },
   "outputs": [],
   "source": [
    "def model_check(X_test, Y_test, parameters = None, print_cost = True):\n",
    "    \n",
    "    ops.reset_default_graph()                         # to be able to rerun the model without overwriting tf variables\n",
    "    (n_x, _) = X_test.shape                          # (n_x: input size, m : number of examples in the train set)\n",
    "    n_y = Y_test.shape[0]                            # n_y : output size\n",
    "    \n",
    "    # Create Placeholders of shape (n_x, n_y)\n",
    "    X, Y = create_placeholders(n_x, n_y)\n",
    "\n",
    "    # Initialize parameters\n",
    "    parameters = initialize_parameters(parameters)\n",
    "    \n",
    "    # Forward propagation: Build the forward propagation in the tensorflow graph\n",
    "    Z3 = forward_propagation(X, parameters)\n",
    "    \n",
    "    # Cost function: Add cost function to tensorflow graph\n",
    "    # cost1 = compute_cost1(Z3, Y) # L1 norm\n",
    "    A3,cost2 = compute_cost2(Z3, Y) # L2 norm\n",
    "    \n",
    "    # Initialize all the variables\n",
    "    init = tf.global_variables_initializer()\n",
    "\n",
    "    # Start the session to compute the tensorflow graph\n",
    "    with tf.Session() as sess:\n",
    "        \n",
    "        # Run the initialization\n",
    "        sess.run(init)\n",
    "        [A3_test,cost2_test]=sess.run([A3, cost2], feed_dict={X: X_test, Y: Y_test})\n",
    "    if print_cost==True:\n",
    "        print(\"Test mean square error: {:.2e}.\".format(cost2_test))\n",
    "        \n",
    "        \n",
    "        return A3_test,cost2_test"
   ]
  },
  {
   "cell_type": "code",
   "execution_count": 9,
   "metadata": {
    "collapsed": true
   },
   "outputs": [],
   "source": [
    "f = open('parameters_min_test_cost_1446_102717.data', 'rb')\n",
    "parameters,mu_x_train,var_x_train = pickle.load(f)\n",
    "f.close()"
   ]
  },
  {
   "cell_type": "code",
   "execution_count": 10,
   "metadata": {
    "collapsed": true
   },
   "outputs": [],
   "source": [
    "num_data_set=100\n",
    "m_all=100 # number of all the samples\n",
    "pert=0.05 # perturbation of intensity after field's superposition\n",
    "A3_test=np.zeros((num_data_set,3,m_all))\n",
    "cost_test=np.zeros((num_data_set,1))\n",
    "Y_test_set=np.zeros((num_data_set,3,m_all))\n",
    "mode_comp_set=[''for i in range(num_data_set)]"
   ]
  },
  {
   "cell_type": "code",
   "execution_count": 11,
   "metadata": {},
   "outputs": [
    {
     "name": "stdout",
     "output_type": "stream",
     "text": [
      "Test mean square error: 1.01e-02.\n",
      "Test mean square error: 9.86e-03.\n",
      "Test mean square error: 1.06e-02.\n",
      "Test mean square error: 7.98e-03.\n",
      "Test mean square error: 8.98e-03.\n",
      "Test mean square error: 9.87e-03.\n",
      "Test mean square error: 9.44e-03.\n",
      "Test mean square error: 6.07e-03.\n",
      "Test mean square error: 1.16e-02.\n",
      "Test mean square error: 1.02e-02.\n",
      "Test mean square error: 8.36e-03.\n",
      "Test mean square error: 1.19e-02.\n",
      "Test mean square error: 6.74e-03.\n",
      "Test mean square error: 1.09e-02.\n",
      "Test mean square error: 1.01e-02.\n",
      "Test mean square error: 8.00e-03.\n",
      "Test mean square error: 1.05e-02.\n",
      "Test mean square error: 8.21e-03.\n",
      "Test mean square error: 1.03e-02.\n",
      "Test mean square error: 1.00e-02.\n",
      "Test mean square error: 7.68e-03.\n",
      "Test mean square error: 9.71e-03.\n",
      "Test mean square error: 1.22e-02.\n",
      "Test mean square error: 1.48e-02.\n",
      "Test mean square error: 1.33e-02.\n",
      "Test mean square error: 7.79e-03.\n",
      "Test mean square error: 8.52e-03.\n",
      "Test mean square error: 1.05e-02.\n",
      "Test mean square error: 1.04e-02.\n",
      "Test mean square error: 1.30e-02.\n",
      "Test mean square error: 8.65e-03.\n",
      "Test mean square error: 9.14e-03.\n",
      "Test mean square error: 8.64e-03.\n",
      "Test mean square error: 1.00e-02.\n",
      "Test mean square error: 9.63e-03.\n",
      "Test mean square error: 6.73e-03.\n",
      "Test mean square error: 9.54e-03.\n",
      "Test mean square error: 1.20e-02.\n",
      "Test mean square error: 1.81e-02.\n",
      "Test mean square error: 1.35e-02.\n",
      "Test mean square error: 1.24e-02.\n",
      "Test mean square error: 7.43e-03.\n",
      "Test mean square error: 1.19e-02.\n",
      "Test mean square error: 1.09e-02.\n",
      "Test mean square error: 8.87e-03.\n",
      "Test mean square error: 1.11e-02.\n",
      "Test mean square error: 6.37e-03.\n",
      "Test mean square error: 1.16e-02.\n",
      "Test mean square error: 7.25e-03.\n",
      "Test mean square error: 1.17e-02.\n",
      "Test mean square error: 8.84e-03.\n",
      "Test mean square error: 9.22e-03.\n",
      "Test mean square error: 1.07e-02.\n",
      "Test mean square error: 1.26e-02.\n",
      "Test mean square error: 1.22e-02.\n",
      "Test mean square error: 1.19e-02.\n",
      "Test mean square error: 1.08e-02.\n",
      "Test mean square error: 6.78e-03.\n",
      "Test mean square error: 1.04e-02.\n",
      "Test mean square error: 8.44e-03.\n",
      "Test mean square error: 8.71e-03.\n",
      "Test mean square error: 1.30e-02.\n",
      "Test mean square error: 7.80e-03.\n",
      "Test mean square error: 1.14e-02.\n",
      "Test mean square error: 6.30e-03.\n",
      "Test mean square error: 1.10e-02.\n",
      "Test mean square error: 8.79e-03.\n",
      "Test mean square error: 9.71e-03.\n",
      "Test mean square error: 1.21e-02.\n",
      "Test mean square error: 9.04e-03.\n",
      "Test mean square error: 1.77e-02.\n",
      "Test mean square error: 1.07e-02.\n",
      "Test mean square error: 9.24e-03.\n",
      "Test mean square error: 9.43e-03.\n",
      "Test mean square error: 6.28e-03.\n",
      "Test mean square error: 6.96e-03.\n",
      "Test mean square error: 1.38e-02.\n",
      "Test mean square error: 9.28e-03.\n",
      "Test mean square error: 1.17e-02.\n",
      "Test mean square error: 1.11e-02.\n",
      "Test mean square error: 9.95e-03.\n",
      "Test mean square error: 8.07e-03.\n",
      "Test mean square error: 1.37e-02.\n",
      "Test mean square error: 1.06e-02.\n",
      "Test mean square error: 8.48e-03.\n",
      "Test mean square error: 1.22e-02.\n",
      "Test mean square error: 1.03e-02.\n",
      "Test mean square error: 1.55e-02.\n",
      "Test mean square error: 9.13e-03.\n",
      "Test mean square error: 7.60e-03.\n",
      "Test mean square error: 1.15e-02.\n",
      "Test mean square error: 8.53e-03.\n",
      "Test mean square error: 1.25e-02.\n",
      "Test mean square error: 1.24e-02.\n",
      "Test mean square error: 8.87e-03.\n",
      "Test mean square error: 9.48e-03.\n",
      "Test mean square error: 9.44e-03.\n",
      "Test mean square error: 7.58e-03.\n",
      "Test mean square error: 7.96e-03.\n",
      "Test mean square error: 8.71e-03.\n"
     ]
    }
   ],
   "source": [
    "for i_data_set in range(num_data_set):\n",
    "    field_sp=[[0 for i in range(m_all)] for j in range(1)] # [[Ey(0),...,Ey(m_all-1)]]\n",
    "    # Synthesis data set\n",
    "    np.random.seed(None) # random seed(0)\n",
    "    rd1=np.random.rand(3,m_all)\n",
    "    np.random.seed(None) # random seed(1)\n",
    "    rd2=np.random.rand(3,m_all)\n",
    "    mode_comp=rd1*np.exp(1j*rd2*2*np.pi)\n",
    "    mode_comp_set[i_data_set]=np.copy(mode_comp)\n",
    "    mode_comp_label=rd1**2/np.sum(rd1**2,axis=0)\n",
    "\n",
    "    for i in range(m_all):\n",
    "        for j in range(num_mode):\n",
    "            field_sp[0][i]+=mode_comp[j,i]*mode_data[0][j]\n",
    "    \n",
    "    # get farfield diffraction pattern\n",
    "    sp_y=y.shape[0] # sampling points along y\n",
    "    sp_z=z.shape[0] # sampling points along z\n",
    "    ff_data=[]\n",
    "    for i in range(m_all):\n",
    "        ff_data.append(np.fft.fftshift(np.fft.fft2(field_sp[0][i]))/sp_y/sp_z)\n",
    "    \n",
    "    ff_i_data=['' for i in range(m_all)]\n",
    "    for i in range(m_all):\n",
    "        ff_i_data[i]=np.abs(ff_data[i])**2\n",
    "        \n",
    "    ff_i_data_eff=['' for i in range(m_all)]\n",
    "    for i in range(m_all):\n",
    "        ff_i_data_eff[i]=ff_i_data[i][9:12,70:91]\n",
    "        \n",
    "    ff_i_data_eff=np.array(ff_i_data_eff)\n",
    "    ff_i_data_eff=ff_i_data_eff.reshape((m_all,-1)).T\n",
    "    np.random.seed(None)\n",
    "    permutation = list(np.random.permutation(m_all))\n",
    "    ff_i_data_eff_shuffled=ff_i_data_eff[:,permutation]\n",
    "    mode_comp_label_shuffled=mode_comp_label[:,permutation]\n",
    "    \n",
    "    # converting to logarithmic data\n",
    "    X_test=-np.log10(ff_i_data_eff_shuffled)\n",
    "    Y_test=mode_comp_label_shuffled\n",
    "    X_test=(X_test-mu_x_train)/np.sqrt(var_x_train)\n",
    "    Y_test_set[i_data_set,:,:]=Y_test\n",
    "    [A3_test[i_data_set,:,:],cost_test[i_data_set,0]]=model_check(X_test, Y_test, parameters = parameters, print_cost = True)"
   ]
  },
  {
   "cell_type": "code",
   "execution_count": 12,
   "metadata": {
    "collapsed": true
   },
   "outputs": [],
   "source": [
    "import matplotlib\n",
    "from numpy.random import randn\n",
    "import matplotlib.pyplot as plt\n",
    "from matplotlib.ticker import FuncFormatter\n",
    "\n",
    "\n",
    "def to_percent(y, position):\n",
    "    # Ignore the passed in position. This has the effect of scaling the default\n",
    "    # tick locations.\n",
    "    s = '{:.4}'.format(100 * y/num_data_set)\n",
    "\n",
    "    # The percent symbol needs escaping in latex\n",
    "    if matplotlib.rcParams['text.usetex'] is True:\n",
    "        return s + r'$\\%$'\n",
    "    else:\n",
    "        return s + '%'"
   ]
  },
  {
   "cell_type": "code",
   "execution_count": 13,
   "metadata": {},
   "outputs": [
    {
     "data": {
      "image/png": "[encoded data removed]",
      "text/plain": [
       "<matplotlib.figure.Figure at 0x192c6901630>"
      ]
     },
     "metadata": {},
     "output_type": "display_data"
    }
   ],
   "source": [
    "font_suptitle = {'family' : 'Times New Roman',\n",
    "                 'weight' : 'bold',\n",
    "                 'size'   : 18}\n",
    "font_subtitle = {'family' : 'Times New Roman',\n",
    "                 'weight' : 'bold',\n",
    "                 'size'   : 15}\n",
    "font_label = {'family' : 'Times New Roman',\n",
    "              'weight' : 'bold',\n",
    "              'size'   : 15}\n",
    "font_tick = {'family' : 'Times New Roman',\n",
    "             'weight' : 'semibold',\n",
    "             'size'   : 10}\n",
    "\n",
    "plt.figure(num=None, figsize=(8/1.5,6/1.5), dpi=80, facecolor='w', edgecolor='k')\n",
    "plt.title('Mean square error distribution', **font_suptitle)\n",
    "plt.xlabel('Mean square error', **font_label)\n",
    "plt.ylabel('Count', **font_label)\n",
    "plt.xticks(**font_tick,rotation=45)\n",
    "plt.yticks(**font_tick)\n",
    "plt.hist(cost_test,color='darksalmon')\n",
    "formatter = FuncFormatter(to_percent)\n",
    "plt.gca().yaxis.set_major_formatter(formatter)\n",
    "plt.show()"
   ]
  },
  {
   "cell_type": "code",
   "execution_count": null,
   "metadata": {},
   "outputs": [],
   "source": [
    "max_error_index=np.argsort(np.squeeze(cost_test))[-1:-11:-1]\n",
    "print(max_error_index)\n",
    "print(cost_test[max_error_index,0])"
   ]
  },
  {
   "cell_type": "code",
   "execution_count": null,
   "metadata": {},
   "outputs": [],
   "source": [
    "dsi=0\n",
    "si = 0\n",
    "worst_dataset=np.sum(np.abs(A3_test[max_error_index[dsi],:,:]-Y_test_set[max_error_index[dsi],:,:])**2,axis=0)\n",
    "sar=np.argsort(worst_dataset)[-1:-11:-1] # sorted array\n",
    "print(sar)\n",
    "plt.figure(num=None, figsize=(8/1.5,6/1.5), dpi=80, facecolor='w', edgecolor='k')\n",
    "font_suptitle = {'family' : 'Times New Roman',\n",
    "                 'weight' : 'bold',\n",
    "                 'size'   : 18}\n",
    "font_subtitle = {'family' : 'Times New Roman',\n",
    "                 'weight' : 'bold',\n",
    "                 'size'   : 15}\n",
    "font_label = {'family' : 'Times New Roman',\n",
    "              'weight' : 'bold',\n",
    "              'size'   : 15}\n",
    "font_tick = {'family' : 'Times New Roman',\n",
    "             'weight' : 'semibold',\n",
    "             'size'   : 15}\n",
    "plt.plot(np.sort(worst_dataset)[-30:][::-1],'o-')\n",
    "plt.title('Worst 30 samples in worst MSE dataset',**font_suptitle,y=1.05)\n",
    "plt.xlabel('Sample index',**font_label)\n",
    "plt.ylabel('L2 norm',**font_label)\n",
    "plt.xticks(**font_tick)\n",
    "plt.yticks(**font_tick)\n",
    "plt.show()\n",
    "\n",
    "np.random.seed(None)\n",
    "print(\"index_{}:\".format(sar[si]))\n",
    "print(Y_test_set[max_error_index[dsi],:,:].T[sar[si],:],A3_test[max_error_index[dsi],:,:].T[sar[si],:])"
   ]
  },
  {
   "cell_type": "code",
   "execution_count": null,
   "metadata": {
    "scrolled": false
   },
   "outputs": [],
   "source": [
    "training_data_add=[]\n",
    "dsi=0\n",
    "si=0\n",
    "yy,zz=np.meshgrid(y,z)\n",
    "for dsi in range(10):\n",
    "    for si in range(10):\n",
    "        worst_dataset=np.sum(np.abs(A3_test[max_error_index[dsi],:,:]-Y_test_set[max_error_index[dsi],:,:])**2,axis=0)\n",
    "        sar=np.argsort(worst_dataset)[-1:-11:-1] # sorted array\n",
    "        if worst_dataset[sar[si]]>=5e-3:\n",
    "            temp=mode_comp_set[max_error_index[dsi]][:,sar[si]]\n",
    "            training_data_add.append(np.copy(temp))\n",
    "\n",
    "            # Synthesis data set\n",
    "            field_sp_inspect=np.zeros((23,161),dtype=np.complex)\n",
    "            for i in range(num_mode):\n",
    "                field_sp_inspect+=np.multiply(temp[i],mode_data[0][i])\n",
    "\n",
    "            # view specified sample\n",
    "            plt.figure(num=None, figsize=(8/1.5,6/1.5), dpi=80, facecolor='w', edgecolor='k')\n",
    "            plt.title('Dataset_{}_sample_{}_|ey|'.format(max_error_index[dsi],sar[si]))\n",
    "            plt.pcolormesh(yy,zz,np.abs(field_sp_inspect)/np.max(np.abs(field_sp_inspect)))\n",
    "            plt.xlabel(\"Y direction/micron\")\n",
    "            plt.ylabel(\"Z direction/micron\")\n",
    "            plt.ylim(-0.11, 0.33)\n",
    "            plt.gca().set_aspect('equal', adjustable='box')\n",
    "            plt.colorbar(orientation='horizontal')\n",
    "            plt.show()\n",
    "            print(\"Amplitude label: \")\n",
    "            print(100*Y_test_set[max_error_index[dsi],:,sar[si]])\n",
    "            print(\"Amplitude prediction: \")\n",
    "            print(100*A3_test[max_error_index[dsi],:,sar[si]])\n",
    "            print(\"Phase: \")      \n",
    "            print(np.angle(temp,deg=True))\n"
   ]
  },
  {
   "cell_type": "code",
   "execution_count": null,
   "metadata": {
    "collapsed": true
   },
   "outputs": [],
   "source": [
    "# save training_data_add\n",
    "f = open('training_data_add_1_102417.data', 'wb')\n",
    "pickle.dump(training_data_add, f)\n",
    "f.close()"
   ]
  },
  {
   "cell_type": "code",
   "execution_count": null,
   "metadata": {},
   "outputs": [],
   "source": [
    "len(training_data_add)"
   ]
  },
  {
   "cell_type": "code",
   "execution_count": null,
   "metadata": {
    "collapsed": true
   },
   "outputs": [],
   "source": [
    "import matplotlib\n",
    "from numpy.random import randn\n",
    "import matplotlib.pyplot as plt\n",
    "from matplotlib.ticker import FuncFormatter\n",
    "\n",
    "\n",
    "def to_percent(y, position):\n",
    "    # Ignore the passed in position. This has the effect of scaling the default\n",
    "    # tick locations.\n",
    "    s = '{:.4}'.format(100 * y/m_all)\n",
    "\n",
    "    # The percent symbol needs escaping in latex\n",
    "    if matplotlib.rcParams['text.usetex'] is True:\n",
    "        return s + r'$\\%$'\n",
    "    else:\n",
    "        return s + '%'"
   ]
  },
  {
   "cell_type": "code",
   "execution_count": null,
   "metadata": {
    "collapsed": true
   },
   "outputs": [],
   "source": [
    "plt.figure(num=None, figsize=(12,3), dpi=80, facecolor='w', edgecolor='k')\n",
    "\n",
    "font_suptitle = {'family' : 'Times New Roman',\n",
    "                 'weight' : 'bold',\n",
    "                 'size'   : 18}\n",
    "font_subtitle = {'family' : 'Times New Roman',\n",
    "                 'weight' : 'bold',\n",
    "                 'size'   : 15}\n",
    "font_label = {'family' : 'Times New Roman',\n",
    "              'weight' : 'bold',\n",
    "              'size'   : 12}\n",
    "font_tick = {'family' : 'Times New Roman',\n",
    "             'weight' : 'semibold',\n",
    "             'size'   : 12}\n",
    "\n",
    "plt.suptitle('Absolute deviation distribution of worst MSE dataset',x=0.5,y=1.05,**font_suptitle)\n",
    "\n",
    "plt.subplot(1,3,1)\n",
    "plt.hist(np.abs(A3_test[max_error_index,0,:]-Y_test_set[max_error_index,0,:]),bins=12,range=(0,0.12))\n",
    "plt.title('Mode 0',**font_subtitle)\n",
    "plt.xlabel('Absolute deviation',**font_label)\n",
    "plt.ylabel('Count',**font_label)\n",
    "plt.xlim(-0.005,0.125)\n",
    "plt.xticks(**font_tick)\n",
    "plt.yticks(**font_tick)\n",
    "formatter = FuncFormatter(to_percent)\n",
    "plt.gca().yaxis.set_major_formatter(formatter)\n",
    "\n",
    "plt.subplot(1,3,2)\n",
    "plt.hist(np.abs(A3_test[max_error_index,1,:]-Y_test_set[max_error_index,1,:]),bins=12,range=(0,0.12))\n",
    "plt.title('Mode 1',**font_subtitle)\n",
    "plt.xlabel('Absolute deviation',**font_label)\n",
    "plt.ylabel('Count',**font_label)\n",
    "plt.xlim(-0.005,0.125)\n",
    "plt.xticks(**font_tick)\n",
    "plt.yticks(**font_tick)\n",
    "formatter = FuncFormatter(to_percent)\n",
    "plt.gca().yaxis.set_major_formatter(formatter)\n",
    "\n",
    "plt.subplot(1,3,3)\n",
    "plt.hist(np.abs(A3_test[max_error_index,2,:]-Y_test_set[max_error_index,2,:]),bins=12,range=(0,0.12))\n",
    "plt.title('Mode 2',**font_subtitle)\n",
    "plt.xlabel('Absolute deviation',**font_label)\n",
    "plt.ylabel('Count',**font_label)\n",
    "plt.xlim(-0.005,0.125)\n",
    "plt.xticks(**font_tick)\n",
    "plt.yticks(**font_tick)\n",
    "formatter = FuncFormatter(to_percent)\n",
    "plt.gca().yaxis.set_major_formatter(formatter)\n",
    "\n",
    "plt.tight_layout()\n",
    "plt.show()"
   ]
  },
  {
   "cell_type": "code",
   "execution_count": null,
   "metadata": {
    "collapsed": true
   },
   "outputs": [],
   "source": []
  }
 ],
 "metadata": {
  "kernelspec": {
   "display_name": "Python 3",
   "language": "python",
   "name": "python3"
  },
  "language_info": {
   "codemirror_mode": {
    "name": "ipython",
    "version": 3
   },
   "file_extension": ".py",
   "mimetype": "text/x-python",
   "name": "python",
   "nbconvert_exporter": "python",
   "pygments_lexer": "ipython3",
   "version": "3.5.4"
  }
 },
 "nbformat": 4,
 "nbformat_minor": 2
}
