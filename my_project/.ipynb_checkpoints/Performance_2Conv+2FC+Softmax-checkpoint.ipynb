{
 "cells": [
  {
   "cell_type": "code",
   "execution_count": 1,
   "metadata": {},
   "outputs": [],
   "source": [
    "import numpy as np\n",
    "import matplotlib.pyplot as plt\n",
    "import linecache\n",
    "import math\n",
    "import tensorflow as tf\n",
    "from tensorflow.python.framework import ops\n",
    "import pickle\n",
    "%matplotlib inline"
   ]
  },
  {
   "cell_type": "code",
   "execution_count": 2,
   "metadata": {},
   "outputs": [],
   "source": [
    "# initialize mode params\n",
    "num_mode=3\n",
    "ny=161\n",
    "nz=23\n",
    "y=np.zeros((ny,1))\n",
    "z=np.zeros((nz,1))\n",
    "data1=np.zeros((ny,nz))\n",
    "data2=np.zeros((ny,nz))\n",
    "mode_data=[['' for i in range(3)] for j in range(1)]\n",
    "\n",
    "# get mode1-3 E and H data\n",
    "j=0\n",
    "for i in range(3+1,3+1+ny):\n",
    "    y[j,:]=linecache.getline(r'C:\\Users\\Ang Liu\\Desktop\\Mode_data\\mode1_ey.txt', i).split()\n",
    "    j+=1\n",
    "\n",
    "j=0\n",
    "for i in range(3+ny+2+1,3+ny+2+1+nz):\n",
    "    z[j,:]=linecache.getline(r'C:\\Users\\Ang Liu\\Desktop\\Mode_data\\mode1_ey.txt', i).split()\n",
    "    j+=1\n",
    "\n",
    "for k in range(num_mode):\n",
    "    j=0\n",
    "    for i in range(3+ny+2+nz+2+1,3+ny+2+nz+2+1+ny):\n",
    "        data1[j,:]=linecache.getline(r'C:\\Users\\Ang Liu\\Desktop\\Mode_data\\mode'+str(k+1)+'_ey.txt', i).split()\n",
    "        j+=1  \n",
    "    mode_data[0][k]=np.copy(data1.T)\n",
    "\n",
    "sp_y=y.shape[0] # sampling points along y\n",
    "sp_z=z.shape[0] # sampling points along z\n",
    "# Normlize integral{|E|^2*dydz} to 1\n",
    "dy=(y[-1,0]-y[0,0])/(y.shape[0]-1)\n",
    "dz=(z[-1,0]-z[0,0])/(z.shape[0]-1)\n",
    "norm_mode=np.zeros((1,num_mode))\n",
    "for i in range(num_mode):\n",
    "    norm_mode[0,i]=np.sum(mode_data[0][i]**2*dy*dz)\n",
    "    mode_data[0][i]/=np.sqrt(norm_mode[0,i])"
   ]
  },
  {
   "cell_type": "code",
   "execution_count": 3,
   "metadata": {},
   "outputs": [],
   "source": [
    "def weight_variable(shape):\n",
    "  initial = tf.truncated_normal(shape, stddev=0.1)\n",
    "  return tf.Variable(initial)\n",
    "\n",
    "def bias_variable(shape):\n",
    "  initial = tf.constant(0.1, shape=shape)\n",
    "  return tf.Variable(initial)"
   ]
  },
  {
   "cell_type": "code",
   "execution_count": 4,
   "metadata": {},
   "outputs": [],
   "source": [
    "def conv2d(x, W):\n",
    "  return tf.nn.conv2d(x, W, strides=[1, 1, 1, 1], padding='SAME')\n",
    "\n",
    "def max_pool_2x2(x):\n",
    "  return tf.nn.max_pool(x, ksize=[1, 2, 2, 1],\n",
    "                        strides=[1, 2, 2, 1], padding='SAME')"
   ]
  },
  {
   "cell_type": "code",
   "execution_count": 5,
   "metadata": {},
   "outputs": [],
   "source": [
    "def build_graph(learning_rate):\n",
    "\n",
    "    m = m_all\n",
    "    \n",
    "    x = tf.placeholder(tf.float32, shape=[None, 3, 21, 1])\n",
    "    y_ = tf.placeholder(tf.float32, shape=[None, 3])\n",
    "    \n",
    "    with tf.name_scope('conv1'):\n",
    "        W_conv1 = weight_variable([3, 3, 1, 16]) # [filter_height, filter_width, in_channels, out_channels]\n",
    "        b_conv1 = bias_variable([16])\n",
    "        h_conv1 = tf.nn.relu(conv2d(x, W_conv1) + b_conv1) # [batch, 3, 21, 16]\n",
    "        h_pool1 = max_pool_2x2(h_conv1) # [batch, 2, 11, 16]\n",
    "    \n",
    "    with tf.name_scope('conv2'):\n",
    "        W_conv2 = weight_variable([3, 3, 16, 32])\n",
    "        b_conv2 = bias_variable([32])\n",
    "        h_conv2 = tf.nn.relu(conv2d(h_pool1, W_conv2) + b_conv2) # [batch, 2, 11, 32]\n",
    "        h_pool2 = max_pool_2x2(h_conv2) # [batch, 1, 6, 32]\n",
    "        h_pool2_flat = tf.reshape(h_pool2, [-1, h_pool2.shape[1]*h_pool2.shape[2]*h_pool2.shape[3]])\n",
    "    \n",
    "    with tf.name_scope('fc1'):\n",
    "        W_fc1 = weight_variable([np.int(h_pool2_flat.shape[-1]), 64])\n",
    "        b_fc1 = bias_variable([64])\n",
    "        h_fc1 = tf.nn.relu(tf.matmul(h_pool2_flat, W_fc1) + b_fc1)\n",
    "        # dropout\n",
    "        keep_prob_1 = tf.placeholder(tf.float32)\n",
    "        h_fc1_drop = tf.nn.dropout(h_fc1, keep_prob_1)\n",
    "        \n",
    "    with tf.name_scope('fc2'):\n",
    "        W_fc2 = weight_variable([64, 32])\n",
    "        b_fc2 = bias_variable([32])\n",
    "        h_fc2 = tf.nn.relu(tf.matmul(h_fc1_drop, W_fc2) + b_fc2)\n",
    "        # dropout\n",
    "        keep_prob_2 = tf.placeholder(tf.float32)\n",
    "        h_fc2_drop = tf.nn.dropout(h_fc2, keep_prob_2)\n",
    "        \n",
    "    with tf.name_scope('fc3'):\n",
    "        W_fc3 = weight_variable([32, 3])\n",
    "        b_fc3 = bias_variable([3])\n",
    "        y_conv = tf.matmul(h_fc2_drop, W_fc3) + b_fc3\n",
    "        y = tf.nn.softmax(y_conv)\n",
    "    cost = tf.reduce_mean(tf.reduce_sum((y-y_)**2,axis=-1))\n",
    "    optimizer = tf.train.AdamOptimizer(learning_rate).minimize(cost)\n",
    "    return keep_prob_1, keep_prob_2, x, y_, y, cost, optimizer"
   ]
  },
  {
   "cell_type": "code",
   "execution_count": 8,
   "metadata": {},
   "outputs": [
    {
     "name": "stdout",
     "output_type": "stream",
     "text": [
      "INFO:tensorflow:Restoring parameters from .\\mc_regr_cnn\\model_2C2F1S\\model_min_tc_1\n",
      "Test mean square error: 0.000731221749447\n",
      "Test mean square error: 0.000554596539587\n",
      "Test mean square error: 0.000586841721088\n",
      "Test mean square error: 0.000645409803838\n",
      "Test mean square error: 0.000538091349881\n",
      "Test mean square error: 0.000861901033204\n",
      "Test mean square error: 0.000623780419119\n",
      "Test mean square error: 0.000701746786945\n",
      "Test mean square error: 0.000612798205111\n",
      "Test mean square error: 0.00054704566719\n",
      "Test mean square error: 0.000564986548852\n",
      "Test mean square error: 0.000971110595856\n",
      "Test mean square error: 0.000542974914424\n",
      "Test mean square error: 0.000687838124577\n",
      "Test mean square error: 0.00113612902351\n",
      "Test mean square error: 0.000499899324495\n",
      "Test mean square error: 0.000505278236233\n",
      "Test mean square error: 0.000775625114329\n",
      "Test mean square error: 0.000430852582213\n",
      "Test mean square error: 0.00086700177053\n",
      "Test mean square error: 0.000693221460097\n",
      "Test mean square error: 0.00109247269575\n",
      "Test mean square error: 0.000801861286163\n",
      "Test mean square error: 0.000547244562767\n",
      "Test mean square error: 0.000764559896197\n",
      "Test mean square error: 0.000523806142155\n",
      "Test mean square error: 0.000702567980625\n",
      "Test mean square error: 0.000596652214881\n",
      "Test mean square error: 0.00122622144409\n",
      "Test mean square error: 0.000562964589335\n",
      "Test mean square error: 0.000545206130482\n",
      "Test mean square error: 0.000339127815096\n",
      "Test mean square error: 0.000709865940735\n",
      "Test mean square error: 0.000669987930451\n",
      "Test mean square error: 0.000575370388106\n",
      "Test mean square error: 0.000556955463253\n",
      "Test mean square error: 0.000497349945363\n",
      "Test mean square error: 0.000596853613388\n",
      "Test mean square error: 0.0004172702902\n",
      "Test mean square error: 0.000553205376491\n",
      "Test mean square error: 0.000519554829225\n",
      "Test mean square error: 0.00119789689779\n",
      "Test mean square error: 0.000700159347616\n",
      "Test mean square error: 0.00046587921679\n",
      "Test mean square error: 0.000598520913627\n",
      "Test mean square error: 0.000598075275775\n",
      "Test mean square error: 0.000737115042284\n",
      "Test mean square error: 0.000635620497633\n",
      "Test mean square error: 0.00142230454367\n",
      "Test mean square error: 0.000713931163773\n",
      "Test mean square error: 0.00055021350272\n",
      "Test mean square error: 0.000521721492987\n",
      "Test mean square error: 0.000419750576839\n",
      "Test mean square error: 0.0006714228075\n",
      "Test mean square error: 0.000465029181214\n",
      "Test mean square error: 0.00055639835773\n",
      "Test mean square error: 0.000465452292701\n",
      "Test mean square error: 0.000508975412231\n",
      "Test mean square error: 0.000643829873297\n",
      "Test mean square error: 0.000477303226944\n",
      "Test mean square error: 0.000756988592912\n",
      "Test mean square error: 0.000525636598468\n",
      "Test mean square error: 0.000538778549526\n",
      "Test mean square error: 0.000490545993671\n",
      "Test mean square error: 0.000537714688107\n",
      "Test mean square error: 0.000663268205244\n",
      "Test mean square error: 0.000859175168443\n",
      "Test mean square error: 0.000504599360283\n",
      "Test mean square error: 0.000356909848051\n",
      "Test mean square error: 0.00079254200682\n",
      "Test mean square error: 0.000573360710405\n",
      "Test mean square error: 0.000406388950069\n",
      "Test mean square error: 0.000525279669091\n",
      "Test mean square error: 0.00044601445552\n",
      "Test mean square error: 0.000546880008187\n",
      "Test mean square error: 0.000790022138972\n",
      "Test mean square error: 0.000505058851559\n",
      "Test mean square error: 0.000507579417899\n",
      "Test mean square error: 0.000470095546916\n",
      "Test mean square error: 0.000840546621475\n",
      "Test mean square error: 0.000443529366748\n",
      "Test mean square error: 0.000559061998501\n",
      "Test mean square error: 0.000751887680963\n",
      "Test mean square error: 0.000379817123758\n",
      "Test mean square error: 0.000605159497354\n",
      "Test mean square error: 0.000553301477339\n",
      "Test mean square error: 0.000667349260766\n",
      "Test mean square error: 0.000672548252624\n",
      "Test mean square error: 0.000535088242032\n",
      "Test mean square error: 0.000868415518198\n",
      "Test mean square error: 0.000550742610358\n",
      "Test mean square error: 0.000730571919121\n",
      "Test mean square error: 0.00068548618583\n",
      "Test mean square error: 0.000628606823739\n",
      "Test mean square error: 0.00037723602145\n",
      "Test mean square error: 0.000578734267037\n",
      "Test mean square error: 0.000510575482622\n",
      "Test mean square error: 0.000335210381309\n",
      "Test mean square error: 0.000644886633381\n",
      "Test mean square error: 0.000382163678296\n"
     ]
    }
   ],
   "source": [
    "num_data_set=100\n",
    "m_base=100\n",
    "m_all=m_base # number of all the samples\n",
    "Y_test_set=np.zeros((num_data_set,3,m_all))\n",
    "mode_comp_set=[''for i in range(num_data_set)]\n",
    "A3_test=np.zeros((num_data_set,3,m_all))\n",
    "cost_test=np.zeros((num_data_set,1))\n",
    "\n",
    "tf.reset_default_graph()\n",
    "keep_prob_1, keep_prob_2, x, y_, y, cost, optimizer = build_graph(learning_rate=1e-4)\n",
    "with tf.Session() as sess:\n",
    "    sess.run(tf.global_variables_initializer())\n",
    "    saver = tf.train.Saver()\n",
    "    saver.restore(sess, '.\\mc_regr_cnn\\model_2C2F1S\\model_min_tc_1')\n",
    "    for i_data_set in range(num_data_set):\n",
    "        np.random.seed(None) # random seed(0)\n",
    "        rd1=np.random.randn(3,m_base)\n",
    "        np.random.seed(None) # random seed(1)\n",
    "        rd2=np.random.rand(3,m_base)\n",
    "        mode_comp=np.zeros((num_mode,m_all),dtype=complex)\n",
    "        mode_comp[:,:m_base]=np.abs(rd1)*np.exp(1j*rd2*2*np.pi)\n",
    "        mode_comp_set[i_data_set]=np.copy(mode_comp)\n",
    "\n",
    "        field_sp=[[0+1j for i in range(m_all)] for j in range(1)] # [[Ey(0),...,Ey(m_all-1)]]\n",
    "        mode_comp_label=np.zeros((num_mode,m_all))\n",
    "        for i in range(m_all):\n",
    "            for j in range(num_mode):\n",
    "                field_sp[0][i]+=mode_comp[j,i]*mode_data[0][j]\n",
    "        mode_comp_label=np.abs(mode_comp)**2/np.sum(np.abs(mode_comp)**2,axis=0)\n",
    "\n",
    "        ff_data=[]\n",
    "        for i in range(m_all):\n",
    "            ff_data.append(np.fft.fftshift(np.fft.fft2(field_sp[0][i]))/sp_y/sp_z)\n",
    "\n",
    "        ff_i_data=['' for i in range(m_all)]\n",
    "        for i in range(m_all):\n",
    "            ff_i_data[i]=np.abs(ff_data[i])**2\n",
    "\n",
    "        ff_i_data_eff=['' for i in range(m_all)]\n",
    "        for i in range(m_all):\n",
    "            ff_i_data_eff[i]=ff_i_data[i][9:12,70:91]\n",
    "        ff_i_data_eff = np.array(ff_i_data_eff)\n",
    "\n",
    "        X_test = -np.log10(ff_i_data_eff.reshape(m_all,ff_i_data_eff.shape[1],\n",
    "                                                          ff_i_data_eff.shape[2],1))\n",
    "        Y_test = mode_comp_label.T\n",
    "        Y_test_set[i_data_set,:,:]=Y_test.T\n",
    "        \n",
    "        cost_test[i_data_set,0] = sess.run(cost,feed_dict={keep_prob_1: 1, keep_prob_2: 1, x: X_test, y_: Y_test})\n",
    "        A3_test[i_data_set,:,:] = sess.run(y,   feed_dict={keep_prob_1: 1, keep_prob_2: 1, x: X_test, y_: Y_test}).T\n",
    "        print (\"Test mean square error:\", cost_test[i_data_set,0])"
   ]
  },
  {
   "cell_type": "code",
   "execution_count": 9,
   "metadata": {},
   "outputs": [],
   "source": [
    "import matplotlib\n",
    "from numpy.random import randn\n",
    "import matplotlib.pyplot as plt\n",
    "from matplotlib.ticker import FuncFormatter\n",
    "\n",
    "\n",
    "def to_percent(y, position):\n",
    "    # Ignore the passed in position. This has the effect of scaling the default\n",
    "    # tick locations.\n",
    "    s = '{:.4}'.format(100 * y/num_data_set)\n",
    "\n",
    "    # The percent symbol needs escaping in latex\n",
    "    if matplotlib.rcParams['text.usetex'] is True:\n",
    "        return s + r'$\\%$'\n",
    "    else:\n",
    "        return s + '%'"
   ]
  },
  {
   "cell_type": "code",
   "execution_count": 10,
   "metadata": {},
   "outputs": [
    {
     "data": {
      "image/png": "[encoded data removed]",
      "text/plain": [
       "<matplotlib.figure.Figure at 0x1eebd1953c8>"
      ]
     },
     "metadata": {},
     "output_type": "display_data"
    }
   ],
   "source": [
    "font_suptitle = {'family' : 'Times New Roman',\n",
    "                 'weight' : 'bold',\n",
    "                 'size'   : 18}\n",
    "font_subtitle = {'family' : 'Times New Roman',\n",
    "                 'weight' : 'bold',\n",
    "                 'size'   : 15}\n",
    "font_label = {'family' : 'Times New Roman',\n",
    "              'weight' : 'bold',\n",
    "              'size'   : 15}\n",
    "font_tick = {'family' : 'Times New Roman',\n",
    "             'weight' : 'semibold',\n",
    "             'size'   : 10}\n",
    "\n",
    "plt.figure(num=None, figsize=(8/1.5,6/1.5), dpi=80, facecolor='w', edgecolor='k')\n",
    "plt.title('Mean square error distribution', **font_suptitle)\n",
    "plt.xlabel('Mean square error', **font_label)\n",
    "plt.ylabel('Count', **font_label)\n",
    "plt.xticks(**font_tick,rotation=45)\n",
    "plt.yticks(**font_tick)\n",
    "plt.hist(cost_test,color='darksalmon')\n",
    "formatter = FuncFormatter(to_percent)\n",
    "plt.gca().yaxis.set_major_formatter(formatter)\n",
    "plt.show()"
   ]
  },
  {
   "cell_type": "code",
   "execution_count": 11,
   "metadata": {},
   "outputs": [
    {
     "name": "stdout",
     "output_type": "stream",
     "text": [
      "[48 28 41 14 21 11 89 19  5 66]\n",
      "[ 0.0014223   0.00122622  0.0011979   0.00113613  0.00109247  0.00097111\n",
      "  0.00086842  0.000867    0.0008619   0.00085918]\n"
     ]
    }
   ],
   "source": [
    "max_error_index=np.argsort(np.squeeze(cost_test))[-1:-11:-1]\n",
    "print(max_error_index)\n",
    "print(cost_test[max_error_index,0])"
   ]
  },
  {
   "cell_type": "code",
   "execution_count": 15,
   "metadata": {},
   "outputs": [
    {
     "name": "stdout",
     "output_type": "stream",
     "text": [
      "[20 79 80  7 90 23 13 21 66 47]\n"
     ]
    },
    {
     "data": {
      "image/png": "[encoded data removed]",
      "text/plain": [
       "<matplotlib.figure.Figure at 0x1eebdad2080>"
      ]
     },
     "metadata": {},
     "output_type": "display_data"
    },
    {
     "name": "stdout",
     "output_type": "stream",
     "text": [
      "index_20:\n",
      "[ 0.30623922  0.2009238   0.49283698] [ 0.05667962  0.35371998  0.58960038]\n"
     ]
    }
   ],
   "source": [
    "dsi=0\n",
    "si = 0\n",
    "worst_dataset=np.sum(np.abs(A3_test[max_error_index[dsi],:,:]-Y_test_set[max_error_index[dsi],:,:])**2,axis=0)\n",
    "sar=np.argsort(worst_dataset)[-1:-11:-1] # sorted array\n",
    "print(sar)\n",
    "plt.figure(num=None, figsize=(8/1.5,6/1.5), dpi=80, facecolor='w', edgecolor='k')\n",
    "font_suptitle = {'family' : 'Times New Roman',\n",
    "                 'weight' : 'bold',\n",
    "                 'size'   : 18}\n",
    "font_subtitle = {'family' : 'Times New Roman',\n",
    "                 'weight' : 'bold',\n",
    "                 'size'   : 15}\n",
    "font_label = {'family' : 'Times New Roman',\n",
    "              'weight' : 'bold',\n",
    "              'size'   : 15}\n",
    "font_tick = {'family' : 'Times New Roman',\n",
    "             'weight' : 'semibold',\n",
    "             'size'   : 15}\n",
    "plt.plot(np.sort(worst_dataset)[-30:][::-1],'o-')\n",
    "plt.title('Worst 30 samples in worst MSE dataset',**font_suptitle,y=1.05)\n",
    "plt.xlabel('Sample index',**font_label)\n",
    "plt.ylabel('L2 norm',**font_label)\n",
    "plt.xticks(**font_tick)\n",
    "plt.yticks(**font_tick)\n",
    "plt.show()\n",
    "\n",
    "np.random.seed(None)\n",
    "print(\"index_{}:\".format(sar[si]))\n",
    "print(Y_test_set[max_error_index[dsi],:,:].T[sar[si],:],A3_test[max_error_index[dsi],:,:].T[sar[si],:])"
   ]
  },
  {
   "cell_type": "code",
   "execution_count": 16,
   "metadata": {},
   "outputs": [
    {
     "data": {
      "text/plain": [
       "array([ 0.09498982,  0.00982396,  0.00411151,  0.00274956,  0.00180249,\n",
       "        0.00164724,  0.00146046,  0.00142493,  0.00130073,  0.00116208,\n",
       "        0.00115287,  0.00110252,  0.00106833,  0.00104187,  0.00100599,\n",
       "        0.00097956,  0.0008599 ,  0.00073218,  0.00072381,  0.0007183 ,\n",
       "        0.00071078,  0.00065958,  0.00064238,  0.00061921,  0.000556  ,\n",
       "        0.00054366,  0.00053717,  0.00038285,  0.00037742,  0.00034842])"
      ]
     },
     "execution_count": 16,
     "metadata": {},
     "output_type": "execute_result"
    }
   ],
   "source": [
    "np.sort(worst_dataset)[-30:][::-1]"
   ]
  },
  {
   "cell_type": "code",
   "execution_count": 39,
   "metadata": {},
   "outputs": [
    {
     "name": "stdout",
     "output_type": "stream",
     "text": [
      "index_20:\n",
      "[ 0.30623922  0.2009238   0.49283698] [ 0.05667962  0.35371998  0.58960038]\n"
     ]
    }
   ],
   "source": [
    "dsi=0\n",
    "si=0\n",
    "print(\"index_{}:\".format(sar[si]))\n",
    "print(Y_test_set[max_error_index[dsi],:,:].T[sar[si],:],A3_test[max_error_index[dsi],:,:].T[sar[si],:])"
   ]
  },
  {
   "cell_type": "code",
   "execution_count": 30,
   "metadata": {},
   "outputs": [],
   "source": [
    "import matplotlib\n",
    "from numpy.random import randn\n",
    "import matplotlib.pyplot as plt\n",
    "from matplotlib.ticker import FuncFormatter\n",
    "\n",
    "\n",
    "def to_percent(y, position):\n",
    "    # Ignore the passed in position. This has the effect of scaling the default\n",
    "    # tick locations.\n",
    "    s = '{:.4}'.format(100 * y/m_all)\n",
    "\n",
    "    # The percent symbol needs escaping in latex\n",
    "    if matplotlib.rcParams['text.usetex'] is True:\n",
    "        return s + r'$\\%$'\n",
    "    else:\n",
    "        return s + '%'"
   ]
  },
  {
   "cell_type": "code",
   "execution_count": 35,
   "metadata": {},
   "outputs": [
    {
     "data": {
      "image/png": "[encoded data removed]",
      "text/plain": [
       "<matplotlib.figure.Figure at 0x1eec08aa6d8>"
      ]
     },
     "metadata": {},
     "output_type": "display_data"
    }
   ],
   "source": [
    "plt.figure(num=None, figsize=(12,3), dpi=80, facecolor='w', edgecolor='k')\n",
    "\n",
    "font_suptitle = {'family' : 'Times New Roman',\n",
    "                 'weight' : 'bold',\n",
    "                 'size'   : 18}\n",
    "font_subtitle = {'family' : 'Times New Roman',\n",
    "                 'weight' : 'bold',\n",
    "                 'size'   : 15}\n",
    "font_label = {'family' : 'Times New Roman',\n",
    "              'weight' : 'bold',\n",
    "              'size'   : 12}\n",
    "font_tick = {'family' : 'Times New Roman',\n",
    "             'weight' : 'semibold',\n",
    "             'size'   : 12}\n",
    "\n",
    "plt.suptitle('Absolute deviation distribution of worst MSE dataset',x=0.5,y=1.05,**font_suptitle)\n",
    "\n",
    "plt.subplot(1,3,1)\n",
    "plt.hist(np.abs(A3_test[max_error_index[0],0,:]-Y_test_set[max_error_index[0],0,:]),bins=12,range=(0,0.12))\n",
    "plt.title('Mode 0',**font_subtitle)\n",
    "plt.xlabel('Absolute deviation',**font_label)\n",
    "plt.ylabel('Count',**font_label)\n",
    "plt.xlim(-0.005,0.125)\n",
    "plt.xticks(**font_tick)\n",
    "plt.yticks(**font_tick)\n",
    "formatter = FuncFormatter(to_percent)\n",
    "plt.gca().yaxis.set_major_formatter(formatter)\n",
    "\n",
    "plt.subplot(1,3,2)\n",
    "plt.hist(np.abs(A3_test[max_error_index[0],1,:]-Y_test_set[max_error_index[0],1,:]),bins=12,range=(0,0.12))\n",
    "plt.title('Mode 1',**font_subtitle)\n",
    "plt.xlabel('Absolute deviation',**font_label)\n",
    "plt.ylabel('Count',**font_label)\n",
    "plt.xlim(-0.005,0.125)\n",
    "plt.xticks(**font_tick)\n",
    "plt.yticks(**font_tick)\n",
    "formatter = FuncFormatter(to_percent)\n",
    "plt.gca().yaxis.set_major_formatter(formatter)\n",
    "\n",
    "plt.subplot(1,3,3)\n",
    "plt.hist(np.abs(A3_test[max_error_index[0],2,:]-Y_test_set[max_error_index[0],2,:]),bins=12,range=(0,0.12))\n",
    "plt.title('Mode 2',**font_subtitle)\n",
    "plt.xlabel('Absolute deviation',**font_label)\n",
    "plt.ylabel('Count',**font_label)\n",
    "plt.xlim(-0.005,0.125)\n",
    "plt.xticks(**font_tick)\n",
    "plt.yticks(**font_tick)\n",
    "formatter = FuncFormatter(to_percent)\n",
    "plt.gca().yaxis.set_major_formatter(formatter)\n",
    "\n",
    "plt.tight_layout()\n",
    "plt.show()"
   ]
  },
  {
   "cell_type": "code",
   "execution_count": null,
   "metadata": {},
   "outputs": [],
   "source": []
  }
 ],
 "metadata": {
  "kernelspec": {
   "display_name": "Python 3",
   "language": "python",
   "name": "python3"
  },
  "language_info": {
   "codemirror_mode": {
    "name": "ipython",
    "version": 3
   },
   "file_extension": ".py",
   "mimetype": "text/x-python",
   "name": "python",
   "nbconvert_exporter": "python",
   "pygments_lexer": "ipython3",
   "version": "3.5.4"
  }
 },
 "nbformat": 4,
 "nbformat_minor": 2
}
